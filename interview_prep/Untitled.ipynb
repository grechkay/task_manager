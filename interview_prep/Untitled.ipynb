{
 "cells": [
  {
   "cell_type": "code",
   "execution_count": 10,
   "metadata": {},
   "outputs": [],
   "source": [
    "class Solution:\n",
    "    def threeSum(self, nums):\n",
    "        \"\"\"\n",
    "        :type nums: List[int]\n",
    "        :rtype: List[List[int]]\n",
    "        \"\"\"\n",
    "        sorted_nums = sorted(nums)\n",
    "        solution_list = []\n",
    "        l = len(nums)\n",
    "        \n",
    "        def twoSum(idx, target):\n",
    "            lidx = idx\n",
    "            ridx = l - 1\n",
    "            solution_set = []\n",
    "            \n",
    "            while lidx < ridx:\n",
    "                _sum =  sorted_nums[lidx] + sorted_nums[ridx] \n",
    "                if _sum == target:\n",
    "                    solution = [sorted_nums[lidx], sorted_nums[ridx]]\n",
    "                    if not solution_set:\n",
    "                        solution_set.append([sorted_nums[lidx], sorted_nums[ridx]])\n",
    "                    elif solution != solution_set[-1]:\n",
    "                        solution_set.append([sorted_nums[lidx], sorted_nums[ridx]])\n",
    "                    lidx += 1\n",
    "                    ridx -= 1\n",
    "                elif _sum < target:\n",
    "                    lidx += 1\n",
    "                else:\n",
    "                    ridx -= 1\n",
    "            print(target, solution_set)\n",
    "            return solution_set\n",
    "                    \n",
    "            \n",
    "        \n",
    "        for i in range(len(sorted_nums)):\n",
    "            tmp_solutions = twoSum(i+1, -sorted_nums[i])\n",
    "            if not tmp_solutions:\n",
    "                continue\n",
    "            if not solution_list:\n",
    "                for s1, s2 in tmp_solutions:\n",
    "                    print('*',s1,s2)\n",
    "                    solution_list.append([sorted_nums[i], s1, s2])\n",
    "            else:\n",
    "                print('~',s1,s2)\n",
    "                solution = [sorted_nums[i], s1, s2]\n",
    "                if solution != solution_list[-1]:\n",
    "                    solution_list.append(solution)\n",
    "                    \n",
    "            print(solution_list)\n",
    "                    \n",
    "        return solution_list"
   ]
  },
  {
   "cell_type": "code",
   "execution_count": 11,
   "metadata": {},
   "outputs": [],
   "source": [
    "a = Solution()"
   ]
  },
  {
   "cell_type": "code",
   "execution_count": 12,
   "metadata": {},
   "outputs": [
    {
     "name": "stdout",
     "output_type": "stream",
     "text": [
      "2 [[-1, 3], [0, 2]]\n",
      "* -1 3\n",
      "* 0 2\n",
      "[[-2, -1, 3], [-2, 0, 2]]\n",
      "1 [[0, 1]]\n",
      "~ 0 2\n",
      "[[-2, -1, 3], [-2, 0, 2], [-1, 0, 2]]\n",
      "0 []\n",
      "-1 []\n",
      "-2 []\n",
      "-3 []\n"
     ]
    },
    {
     "data": {
      "text/plain": [
       "[[-2, -1, 3], [-2, 0, 2], [-1, 0, 2]]"
      ]
     },
     "execution_count": 12,
     "metadata": {},
     "output_type": "execute_result"
    }
   ],
   "source": [
    "a.threeSum([3,0,-2,-1,1,2])"
   ]
  },
  {
   "cell_type": "code",
   "execution_count": null,
   "metadata": {},
   "outputs": [],
   "source": []
  }
 ],
 "metadata": {
  "kernelspec": {
   "display_name": "Python [conda env:pytorch]",
   "language": "python",
   "name": "conda-env-pytorch-py"
  },
  "language_info": {
   "codemirror_mode": {
    "name": "ipython",
    "version": 3
   },
   "file_extension": ".py",
   "mimetype": "text/x-python",
   "name": "python",
   "nbconvert_exporter": "python",
   "pygments_lexer": "ipython3",
   "version": "3.7.0"
  }
 },
 "nbformat": 4,
 "nbformat_minor": 2
}
