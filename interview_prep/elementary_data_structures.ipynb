{
 "cells": [
  {
   "cell_type": "code",
   "execution_count": 4,
   "metadata": {},
   "outputs": [],
   "source": [
    "import numpy as np\n",
    "from collections import defaultdict\n",
    "from collections import deque"
   ]
  },
  {
   "cell_type": "code",
   "execution_count": 15,
   "metadata": {},
   "outputs": [],
   "source": [
    "class GraphAlgorithms:\n",
    "    def __init__(self, n, p):\n",
    "        #initialize random graph\n",
    "        self.graph = [\n",
    "            [] for i in range(n)\n",
    "        ]\n",
    "        self.weights = [\n",
    "            [] for i in range(n)\n",
    "        ]\n",
    "        edges = set()\n",
    "        for i in range(n):\n",
    "            for j in range(n):\n",
    "                if i == j:\n",
    "                    continue\n",
    "                if (min(i,j),max(i,j)) in edges:\n",
    "                    continue\n",
    "                if np.random.uniform() < p:\n",
    "                    self.graph[i].append(j)\n",
    "                    self.graph[j].append(i)\n",
    "                    edges.add((min(i,j),max(i,j)))\n",
    "                    weight = np.random.uniform(1,5)\n",
    "                    self.weights[i].append(weight)\n",
    "                    self.weights[j].append(weight)\n",
    "        print(self.graph)\n",
    "        print(self.weights)\n",
    "        \n",
    "    def bfs(self, v):\n",
    "        visited = set()\n",
    "        visited.add(v)\n",
    "        bfs_queue = deque()\n",
    "        bfs_queue.append((v,0))\n",
    "        prev_level = 0\n",
    "        while bfs_queue:\n",
    "            node, level = bfs_queue.popleft()\n",
    "            for i in self.graph[node]:\n",
    "                if i not in visited:\n",
    "                    bfs_queue.append((i,level+1))\n",
    "                    visited.add(i)\n",
    "            if level > prev_level:\n",
    "                print('')\n",
    "                prev_level = level\n",
    "            print(node, end=' ')\n",
    "            \n",
    "    def dfs(self,v):\n",
    "        visited = set()\n",
    "        visited.add(v)\n",
    "        dfs_stack = []\n",
    "        dfs_stack.append(v)\n",
    "        while dfs_stack:\n",
    "            node = dfs_stack.pop()\n",
    "            for i in self.graph[node]:\n",
    "                if i not in visited:\n",
    "                    dfs_stack.append(i)\n",
    "                    visited.add(i)\n",
    "            print(node)\n",
    "            \n",
    "    def djikstra(self,x,y):\n",
    "        open_set = {}\n",
    "        closed_set = {}\n",
    "        \n",
    "        closed_set[x] = 0\n",
    "        for v,d in zip(self.graph[x], self.weights[x]):\n",
    "            open_set[v] = d\n",
    "        \n",
    "        while y not in closed_set:\n",
    "            _minv, _mind = 100, 100\n",
    "            for v,d in open_set.items():\n",
    "                if d < _minv:\n",
    "                    _minv, _mind = v,d\n",
    "            closed_set[v] = d\n",
    "            for v2,d2 in zip(self.graph[v], self.weights[v]):\n",
    "                if v2 in closed_set:\n",
    "                    continue\n",
    "                if v2 in open_set:\n",
    "                    open_set[v2] = min(open_set[v2], d + d2)\n",
    "                else:\n",
    "                    open_set[v2] = d + d2\n",
    "                    \n",
    "        return closed_set[y]\n",
    "        \n",
    "    def belman_ford(self,x,y):\n",
    "        "
   ]
  },
  {
   "cell_type": "code",
   "execution_count": 24,
   "metadata": {},
   "outputs": [
    {
     "name": "stdout",
     "output_type": "stream",
     "text": [
      "[[1, 3, 6, 8], [0, 2, 5, 6, 8, 9], [1, 3, 6, 7, 9, 4], [0, 2, 8], [2, 6, 9], [1, 8], [0, 1, 2, 4, 7, 9], [2, 6, 8, 9], [0, 1, 3, 5, 7], [1, 2, 4, 6, 7]]\n",
      "[[3.69126221305386, 4.99668155679548, 4.000095979949503, 1.6250134657693422], [3.69126221305386, 1.68897954388884, 3.809851409316544, 3.8134730025231547, 4.009549186419452, 4.540747463722189], [1.68897954388884, 2.7536040234263774, 1.9489181036236145, 2.9482758684064776, 4.747790196339244, 4.703348189618589], [4.99668155679548, 2.7536040234263774, 1.4204121853175655], [4.703348189618589, 4.263918882367343, 3.128245293999244], [3.809851409316544, 2.4793887876618554], [4.000095979949503, 3.8134730025231547, 1.9489181036236145, 4.263918882367343, 2.8995322759309143, 2.32879044754388], [2.9482758684064776, 2.8995322759309143, 3.8521864408828317, 4.501160543732115], [1.6250134657693422, 4.009549186419452, 1.4204121853175655, 2.4793887876618554, 3.8521864408828317], [4.540747463722189, 4.747790196339244, 3.128245293999244, 2.32879044754388, 4.501160543732115]]\n"
     ]
    }
   ],
   "source": [
    "g = GraphAlgorithms(10,.3)"
   ]
  },
  {
   "cell_type": "code",
   "execution_count": 21,
   "metadata": {},
   "outputs": [
    {
     "name": "stdout",
     "output_type": "stream",
     "text": [
      "0 \n",
      "4 1 6 9 \n",
      "2 3 8 7 5 "
     ]
    }
   ],
   "source": [
    "g.bfs(0)"
   ]
  },
  {
   "cell_type": "code",
   "execution_count": 22,
   "metadata": {},
   "outputs": [
    {
     "name": "stdout",
     "output_type": "stream",
     "text": [
      "0\n",
      "9\n",
      "7\n",
      "8\n",
      "5\n",
      "3\n",
      "2\n",
      "6\n",
      "1\n",
      "4\n"
     ]
    }
   ],
   "source": [
    "g.dfs(0)"
   ]
  },
  {
   "cell_type": "code",
   "execution_count": 25,
   "metadata": {},
   "outputs": [
    {
     "data": {
      "text/plain": [
       "9.97836045038429"
      ]
     },
     "execution_count": 25,
     "metadata": {},
     "output_type": "execute_result"
    }
   ],
   "source": [
    "g.djikstra(0,9)"
   ]
  },
  {
   "cell_type": "markdown",
   "metadata": {},
   "source": [
    "# Binary Search"
   ]
  },
  {
   "cell_type": "code",
   "execution_count": 26,
   "metadata": {},
   "outputs": [],
   "source": [
    "x = [1,2,3,4,5,6,7,8,9,10,11]"
   ]
  },
  {
   "cell_type": "code",
   "execution_count": 27,
   "metadata": {},
   "outputs": [],
   "source": [
    "def bs(x,nums):\n",
    "    lidx = 0\n",
    "    ridx = len(nums)\n",
    "    \n",
    "    while lidx < ridx:\n",
    "        _mid = (lidx + ridx) // 2\n",
    "        if nums[_mid] == x:\n",
    "            return _mid\n",
    "        elif nums[_mid] < x:\n",
    "            lidx = _mid + 1\n",
    "        else:\n",
    "            ridx = _mid\n",
    "    return -1"
   ]
  },
  {
   "cell_type": "code",
   "execution_count": 28,
   "metadata": {},
   "outputs": [
    {
     "data": {
      "text/plain": [
       "0"
      ]
     },
     "execution_count": 28,
     "metadata": {},
     "output_type": "execute_result"
    }
   ],
   "source": [
    "bs(1,x)"
   ]
  },
  {
   "cell_type": "code",
   "execution_count": 29,
   "metadata": {},
   "outputs": [
    {
     "data": {
      "text/plain": [
       "8"
      ]
     },
     "execution_count": 29,
     "metadata": {},
     "output_type": "execute_result"
    }
   ],
   "source": [
    "bs(9,x)"
   ]
  },
  {
   "cell_type": "code",
   "execution_count": 30,
   "metadata": {},
   "outputs": [
    {
     "data": {
      "text/plain": [
       "-1"
      ]
     },
     "execution_count": 30,
     "metadata": {},
     "output_type": "execute_result"
    }
   ],
   "source": [
    "bs(12,x)"
   ]
  },
  {
   "cell_type": "code",
   "execution_count": 31,
   "metadata": {},
   "outputs": [
    {
     "data": {
      "text/plain": [
       "3"
      ]
     },
     "execution_count": 31,
     "metadata": {},
     "output_type": "execute_result"
    }
   ],
   "source": [
    "bs(4,x)"
   ]
  },
  {
   "cell_type": "code",
   "execution_count": 32,
   "metadata": {},
   "outputs": [
    {
     "name": "stdout",
     "output_type": "stream",
     "text": [
      "-1\n",
      "0\n",
      "1\n",
      "2\n",
      "3\n",
      "4\n",
      "5\n",
      "6\n",
      "7\n",
      "8\n",
      "9\n",
      "10\n",
      "-1\n"
     ]
    }
   ],
   "source": [
    "for i in range(13):\n",
    "    print(bs(i,x))"
   ]
  },
  {
   "cell_type": "markdown",
   "metadata": {},
   "source": [
    "# Sorting"
   ]
  },
  {
   "cell_type": "markdown",
   "metadata": {},
   "source": [
    "### MergeSort"
   ]
  },
  {
   "cell_type": "code",
   "execution_count": 35,
   "metadata": {},
   "outputs": [],
   "source": [
    "def ms(nums):\n",
    "    if len(nums) == 1:\n",
    "        return nums\n",
    "    else:\n",
    "        _mid = len(nums)//2\n",
    "        l = ms(nums[:_mid])\n",
    "        r = ms(nums[_mid:])\n",
    "        new_array = [0] * len(nums)\n",
    "        lidx = 0\n",
    "        ridx = 0\n",
    "        for i in range(len(nums)):\n",
    "            if lidx >= len(l):\n",
    "                new_array[i] = r[ridx]\n",
    "                ridx += 1\n",
    "            elif ridx >= len(r):\n",
    "                new_array[i] = l[lidx]\n",
    "                lidx += 1\n",
    "            else:\n",
    "                if r[ridx] > l[lidx]:\n",
    "                    new_array[i] = l[lidx]\n",
    "                    lidx += 1\n",
    "                else:\n",
    "                    new_array[i] = r[ridx]\n",
    "                    ridx += 1\n",
    "        return new_array"
   ]
  },
  {
   "cell_type": "code",
   "execution_count": 38,
   "metadata": {},
   "outputs": [
    {
     "data": {
      "text/plain": [
       "[-1.4851715557645242,\n",
       " -0.7083397985777468,\n",
       " -0.3805886686921884,\n",
       " 0.3362493529199843,\n",
       " 0.5541565792464159,\n",
       " 0.9977382441704182,\n",
       " 1.0480251863382608,\n",
       " 1.1757408358747465,\n",
       " 1.5371268233488105,\n",
       " 1.8050930965308418]"
      ]
     },
     "execution_count": 38,
     "metadata": {},
     "output_type": "execute_result"
    }
   ],
   "source": [
    "ms(np.random.normal(size=10))"
   ]
  },
  {
   "cell_type": "code",
   "execution_count": 41,
   "metadata": {},
   "outputs": [],
   "source": [
    "def insertion_sort(nums):\n",
    "    for i in range(1,len(nums)):\n",
    "        for j in reversed(range(1, i+1)):\n",
    "            if nums[j] < nums[j-1]:\n",
    "                nums[j-1], nums[j] = nums[j], nums[j-1]\n",
    "    return nums"
   ]
  },
  {
   "cell_type": "code",
   "execution_count": 42,
   "metadata": {},
   "outputs": [
    {
     "data": {
      "text/plain": [
       "array([-2.32100162, -1.69922148, -1.05543323, -0.49694769, -0.30904386,\n",
       "       -0.28843885, -0.22200837, -0.14692284,  0.25890106,  2.65689558])"
      ]
     },
     "execution_count": 42,
     "metadata": {},
     "output_type": "execute_result"
    }
   ],
   "source": [
    "insertion_sort(np.random.normal(size=10))"
   ]
  },
  {
   "cell_type": "code",
   "execution_count": 55,
   "metadata": {},
   "outputs": [
    {
     "data": {
      "text/plain": [
       "1"
      ]
     },
     "execution_count": 55,
     "metadata": {},
     "output_type": "execute_result"
    }
   ],
   "source": [
    "np.random.randint(2)"
   ]
  },
  {
   "cell_type": "markdown",
   "metadata": {},
   "source": [
    "## Quicksort"
   ]
  },
  {
   "cell_type": "code",
   "execution_count": 96,
   "metadata": {},
   "outputs": [],
   "source": [
    "def qs(nums):\n",
    "    def helper(lidx, ridx):\n",
    "        if ridx - lidx < 2:\n",
    "            return\n",
    "        pivot = lidx + np.random.randint(ridx - lidx)\n",
    "        nums[pivot], nums[ridx-1] = nums[ridx-1], nums[pivot]\n",
    "        pos = lidx\n",
    "        \n",
    "        for i in range(lidx, ridx-1):\n",
    "            if nums[i] < nums[ridx-1]:\n",
    "                nums[i], nums[pos] = nums[pos], nums[i]\n",
    "                pos += 1\n",
    "        nums[ridx-1], nums[pos] = nums[pos], nums[ridx-1]\n",
    "\n",
    "        helper(lidx, pos)\n",
    "        helper(pos + 1, ridx)\n",
    "    helper(0,len(nums))\n",
    "            "
   ]
  },
  {
   "cell_type": "code",
   "execution_count": 97,
   "metadata": {},
   "outputs": [],
   "source": [
    "a = np.random.normal(size=10)"
   ]
  },
  {
   "cell_type": "code",
   "execution_count": 98,
   "metadata": {},
   "outputs": [
    {
     "data": {
      "text/plain": [
       "array([-0.15155092,  1.1846767 ,  1.42616943,  0.35064352,  0.87281754,\n",
       "        0.03737156, -1.08004904, -1.88809384,  1.04370759,  0.56212101])"
      ]
     },
     "execution_count": 98,
     "metadata": {},
     "output_type": "execute_result"
    }
   ],
   "source": [
    "a"
   ]
  },
  {
   "cell_type": "code",
   "execution_count": 99,
   "metadata": {},
   "outputs": [],
   "source": [
    "qs(a)"
   ]
  },
  {
   "cell_type": "code",
   "execution_count": 100,
   "metadata": {},
   "outputs": [
    {
     "data": {
      "text/plain": [
       "array([-1.88809384, -1.08004904, -0.15155092,  0.03737156,  0.35064352,\n",
       "        0.56212101,  0.87281754,  1.04370759,  1.1846767 ,  1.42616943])"
      ]
     },
     "execution_count": 100,
     "metadata": {},
     "output_type": "execute_result"
    }
   ],
   "source": [
    "a\n"
   ]
  },
  {
   "cell_type": "code",
   "execution_count": null,
   "metadata": {},
   "outputs": [],
   "source": [
    "def heapify(x):\n",
    "    def helper(top_element):\n",
    "        elem = top_element\n",
    "        while elem*2 < len(x):\n",
    "            child1 = elem*2\n",
    "            child2 = elem*2+1\n",
    "            if child2 < len(x):\n",
    "                if x[child1] < x[elem]:\n",
    "                    if x[child2] < x[child1]:\n",
    "                        x[child2], x[elem] = x[elem], x[child2]\n",
    "                        elem = child2\n",
    "                "
   ]
  }
 ],
 "metadata": {
  "kernelspec": {
   "display_name": "Python [conda env:pytorch]",
   "language": "python",
   "name": "conda-env-pytorch-py"
  },
  "language_info": {
   "codemirror_mode": {
    "name": "ipython",
    "version": 3
   },
   "file_extension": ".py",
   "mimetype": "text/x-python",
   "name": "python",
   "nbconvert_exporter": "python",
   "pygments_lexer": "ipython3",
   "version": "3.7.0"
  }
 },
 "nbformat": 4,
 "nbformat_minor": 2
}
